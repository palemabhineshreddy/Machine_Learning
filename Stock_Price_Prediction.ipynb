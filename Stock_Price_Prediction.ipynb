{
  "nbformat": 4,
  "nbformat_minor": 0,
  "metadata": {
    "colab": {
      "name": "Stock_Price_Prediction.ipynb",
      "provenance": [],
      "collapsed_sections": []
    },
    "kernelspec": {
      "name": "python3",
      "display_name": "Python 3"
    },
    "accelerator": "GPU"
  },
  "cells": [
    {
      "cell_type": "code",
      "metadata": {
        "id": "B0ZjSboi2Oav",
        "colab_type": "code",
        "colab": {}
      },
      "source": [
        "#Description: this program uses an ANN called LSTM(Long short term memory) to predict the closing stock price of a corporation using the past 10 years stock price"
      ],
      "execution_count": 0,
      "outputs": []
    },
    {
      "cell_type": "code",
      "metadata": {
        "id": "p3HdPbTA24xS",
        "colab_type": "code",
        "colab": {
          "base_uri": "https://localhost:8080/",
          "height": 81
        },
        "outputId": "26f44e6b-3c8b-4a8e-9bac-e5fedae98aa4"
      },
      "source": [
        "#Importing libraries\n",
        "import numpy as np\n",
        "import pandas_datareader as web\n",
        "import math\n",
        "import pandas\n",
        "from sklearn.preprocessing import MinMaxScaler\n",
        "from keras.models import Sequential\n",
        "from keras.layers import Dense,LSTM\n",
        "import matplotlib.pyplot as plt\n",
        "plt.style.use('fivethirtyeight')\n",
        "import warnings\n",
        "warnings.filterwarnings('ignore')"
      ],
      "execution_count": 3,
      "outputs": [
        {
          "output_type": "stream",
          "text": [
            "Using TensorFlow backend.\n"
          ],
          "name": "stderr"
        },
        {
          "output_type": "display_data",
          "data": {
            "text/html": [
              "<p style=\"color: red;\">\n",
              "The default version of TensorFlow in Colab will soon switch to TensorFlow 2.x.<br>\n",
              "We recommend you <a href=\"https://www.tensorflow.org/guide/migrate\" target=\"_blank\">upgrade</a> now \n",
              "or ensure your notebook will continue to use TensorFlow 1.x via the <code>%tensorflow_version 1.x</code> magic:\n",
              "<a href=\"https://colab.research.google.com/notebooks/tensorflow_version.ipynb\" target=\"_blank\">more info</a>.</p>\n"
            ],
            "text/plain": [
              "<IPython.core.display.HTML object>"
            ]
          },
          "metadata": {
            "tags": []
          }
        }
      ]
    },
    {
      "cell_type": "code",
      "metadata": {
        "id": "0Na5scgeKWIR",
        "colab_type": "code",
        "colab": {
          "base_uri": "https://localhost:8080/",
          "height": 431
        },
        "outputId": "06017002-0422-48ec-a234-67de792e8803"
      },
      "source": [
        "#get the stock quote\n",
        "df = web.DataReader('AAPL',data_source='yahoo',start='2010-01-01',end='2020-03-1')\n",
        "#show the data\n",
        "df\n"
      ],
      "execution_count": 11,
      "outputs": [
        {
          "output_type": "execute_result",
          "data": {
            "text/html": [
              "<div>\n",
              "<style scoped>\n",
              "    .dataframe tbody tr th:only-of-type {\n",
              "        vertical-align: middle;\n",
              "    }\n",
              "\n",
              "    .dataframe tbody tr th {\n",
              "        vertical-align: top;\n",
              "    }\n",
              "\n",
              "    .dataframe thead th {\n",
              "        text-align: right;\n",
              "    }\n",
              "</style>\n",
              "<table border=\"1\" class=\"dataframe\">\n",
              "  <thead>\n",
              "    <tr style=\"text-align: right;\">\n",
              "      <th></th>\n",
              "      <th>High</th>\n",
              "      <th>Low</th>\n",
              "      <th>Open</th>\n",
              "      <th>Close</th>\n",
              "      <th>Volume</th>\n",
              "      <th>Adj Close</th>\n",
              "    </tr>\n",
              "    <tr>\n",
              "      <th>Date</th>\n",
              "      <th></th>\n",
              "      <th></th>\n",
              "      <th></th>\n",
              "      <th></th>\n",
              "      <th></th>\n",
              "      <th></th>\n",
              "    </tr>\n",
              "  </thead>\n",
              "  <tbody>\n",
              "    <tr>\n",
              "      <th>2010-01-04</th>\n",
              "      <td>30.642857</td>\n",
              "      <td>30.340000</td>\n",
              "      <td>30.490000</td>\n",
              "      <td>30.572857</td>\n",
              "      <td>123432400.0</td>\n",
              "      <td>26.538483</td>\n",
              "    </tr>\n",
              "    <tr>\n",
              "      <th>2010-01-05</th>\n",
              "      <td>30.798571</td>\n",
              "      <td>30.464285</td>\n",
              "      <td>30.657143</td>\n",
              "      <td>30.625713</td>\n",
              "      <td>150476200.0</td>\n",
              "      <td>26.584366</td>\n",
              "    </tr>\n",
              "    <tr>\n",
              "      <th>2010-01-06</th>\n",
              "      <td>30.747143</td>\n",
              "      <td>30.107143</td>\n",
              "      <td>30.625713</td>\n",
              "      <td>30.138571</td>\n",
              "      <td>138040000.0</td>\n",
              "      <td>26.161509</td>\n",
              "    </tr>\n",
              "    <tr>\n",
              "      <th>2010-01-07</th>\n",
              "      <td>30.285715</td>\n",
              "      <td>29.864286</td>\n",
              "      <td>30.250000</td>\n",
              "      <td>30.082857</td>\n",
              "      <td>119282800.0</td>\n",
              "      <td>26.113146</td>\n",
              "    </tr>\n",
              "    <tr>\n",
              "      <th>2010-01-08</th>\n",
              "      <td>30.285715</td>\n",
              "      <td>29.865715</td>\n",
              "      <td>30.042856</td>\n",
              "      <td>30.282858</td>\n",
              "      <td>111902700.0</td>\n",
              "      <td>26.286753</td>\n",
              "    </tr>\n",
              "    <tr>\n",
              "      <th>...</th>\n",
              "      <td>...</td>\n",
              "      <td>...</td>\n",
              "      <td>...</td>\n",
              "      <td>...</td>\n",
              "      <td>...</td>\n",
              "      <td>...</td>\n",
              "    </tr>\n",
              "    <tr>\n",
              "      <th>2020-02-24</th>\n",
              "      <td>304.179993</td>\n",
              "      <td>289.230011</td>\n",
              "      <td>297.260010</td>\n",
              "      <td>298.179993</td>\n",
              "      <td>55548800.0</td>\n",
              "      <td>298.179993</td>\n",
              "    </tr>\n",
              "    <tr>\n",
              "      <th>2020-02-25</th>\n",
              "      <td>302.529999</td>\n",
              "      <td>286.130005</td>\n",
              "      <td>300.950012</td>\n",
              "      <td>288.079987</td>\n",
              "      <td>57668400.0</td>\n",
              "      <td>288.079987</td>\n",
              "    </tr>\n",
              "    <tr>\n",
              "      <th>2020-02-26</th>\n",
              "      <td>297.880005</td>\n",
              "      <td>286.500000</td>\n",
              "      <td>286.529999</td>\n",
              "      <td>292.649994</td>\n",
              "      <td>49513700.0</td>\n",
              "      <td>292.649994</td>\n",
              "    </tr>\n",
              "    <tr>\n",
              "      <th>2020-02-27</th>\n",
              "      <td>286.000000</td>\n",
              "      <td>272.959991</td>\n",
              "      <td>281.100006</td>\n",
              "      <td>273.519989</td>\n",
              "      <td>80151400.0</td>\n",
              "      <td>273.519989</td>\n",
              "    </tr>\n",
              "    <tr>\n",
              "      <th>2020-02-28</th>\n",
              "      <td>278.410004</td>\n",
              "      <td>256.369995</td>\n",
              "      <td>257.260010</td>\n",
              "      <td>273.359985</td>\n",
              "      <td>106627500.0</td>\n",
              "      <td>273.359985</td>\n",
              "    </tr>\n",
              "  </tbody>\n",
              "</table>\n",
              "<p>2556 rows × 6 columns</p>\n",
              "</div>"
            ],
            "text/plain": [
              "                  High         Low  ...       Volume   Adj Close\n",
              "Date                                ...                         \n",
              "2010-01-04   30.642857   30.340000  ...  123432400.0   26.538483\n",
              "2010-01-05   30.798571   30.464285  ...  150476200.0   26.584366\n",
              "2010-01-06   30.747143   30.107143  ...  138040000.0   26.161509\n",
              "2010-01-07   30.285715   29.864286  ...  119282800.0   26.113146\n",
              "2010-01-08   30.285715   29.865715  ...  111902700.0   26.286753\n",
              "...                ...         ...  ...          ...         ...\n",
              "2020-02-24  304.179993  289.230011  ...   55548800.0  298.179993\n",
              "2020-02-25  302.529999  286.130005  ...   57668400.0  288.079987\n",
              "2020-02-26  297.880005  286.500000  ...   49513700.0  292.649994\n",
              "2020-02-27  286.000000  272.959991  ...   80151400.0  273.519989\n",
              "2020-02-28  278.410004  256.369995  ...  106627500.0  273.359985\n",
              "\n",
              "[2556 rows x 6 columns]"
            ]
          },
          "metadata": {
            "tags": []
          },
          "execution_count": 11
        }
      ]
    },
    {
      "cell_type": "code",
      "metadata": {
        "id": "CdTJHA7jLCSB",
        "colab_type": "code",
        "colab": {
          "base_uri": "https://localhost:8080/",
          "height": 34
        },
        "outputId": "0e19af9e-6950-4c70-e9f1-3b211de15c32"
      },
      "source": [
        "#get the number of rows and columns in the dataset\n",
        "df.shape"
      ],
      "execution_count": 8,
      "outputs": [
        {
          "output_type": "execute_result",
          "data": {
            "text/plain": [
              "(2556, 6)"
            ]
          },
          "metadata": {
            "tags": []
          },
          "execution_count": 8
        }
      ]
    },
    {
      "cell_type": "code",
      "metadata": {
        "id": "2zVOQZypLvAp",
        "colab_type": "code",
        "colab": {
          "base_uri": "https://localhost:8080/",
          "height": 558
        },
        "outputId": "a96d1e25-bfab-49be-a5c1-31a0df923ac3"
      },
      "source": [
        "#Visualize the closing price\n",
        "plt.figure(figsize = (16,8))\n",
        "plt.title(\"Closing Price History\")\n",
        "plt.plot(df['Close'])\n",
        "plt.xlabel('Date',fontsize = 18)\n",
        "plt.ylabel('Close Price USD($)',fontsize=18)\n",
        "plt.show()"
      ],
      "execution_count": 10,
      "outputs": [
        {
          "output_type": "display_data",
          "data": {
            "image/png": "[encoded data removed]",
            "text/plain": [
              "<Figure size 1152x576 with 1 Axes>"
            ]
          },
          "metadata": {
            "tags": []
          }
        }
      ]
    },
    {
      "cell_type": "code",
      "metadata": {
        "id": "wQGL6S1ALddr",
        "colab_type": "code",
        "colab": {
          "base_uri": "https://localhost:8080/",
          "height": 422
        },
        "outputId": "e20198de-8f5d-434e-ec0c-5674cc2dd1dd"
      },
      "source": [
        "#Create a new dataframe with only the 'Close column'\n",
        "data = df.filter(['Close'])\n",
        "print(\"data is \",data)\n",
        "#convert the dataframe into numpy array\n",
        "dataset = data.values\n",
        "print(\"Dataset is :\",dataset)\n",
        "#Get the number of rows to train the model on\n",
        "training_data_len = math.ceil(len(dataset)*0.80)\n",
        "print(\"training data length is\",training_data_len)\n"
      ],
      "execution_count": 19,
      "outputs": [
        {
          "output_type": "stream",
          "text": [
            "data is                   Close\n",
            "Date                  \n",
            "2010-01-04   30.572857\n",
            "2010-01-05   30.625713\n",
            "2010-01-06   30.138571\n",
            "2010-01-07   30.082857\n",
            "2010-01-08   30.282858\n",
            "...                ...\n",
            "2020-02-24  298.179993\n",
            "2020-02-25  288.079987\n",
            "2020-02-26  292.649994\n",
            "2020-02-27  273.519989\n",
            "2020-02-28  273.359985\n",
            "\n",
            "[2556 rows x 1 columns]\n",
            "Dataset is : [[ 30.5728569 ]\n",
            " [ 30.62571335]\n",
            " [ 30.13857079]\n",
            " ...\n",
            " [292.6499939 ]\n",
            " [273.51998901]\n",
            " [273.35998535]]\n",
            "training data length is 2045\n"
          ],
          "name": "stdout"
        }
      ]
    },
    {
      "cell_type": "code",
      "metadata": {
        "id": "osT9SOukORnu",
        "colab_type": "code",
        "colab": {
          "base_uri": "https://localhost:8080/",
          "height": 140
        },
        "outputId": "4048b2dd-c6dd-46d1-d8cf-04409209905d"
      },
      "source": [
        "#Preprocessing\n",
        "#Scale the data\n",
        "scaler = MinMaxScaler(feature_range=(0,1))\n",
        "scaled_data = scaler.fit_transform(dataset)\n",
        "\n",
        "scaled_data"
      ],
      "execution_count": 20,
      "outputs": [
        {
          "output_type": "execute_result",
          "data": {
            "text/plain": [
              "array([[0.01046536],\n",
              "       [0.01064169],\n",
              "       [0.0090166 ],\n",
              "       ...,\n",
              "       [0.88474272],\n",
              "       [0.8209259 ],\n",
              "       [0.82039213]])"
            ]
          },
          "metadata": {
            "tags": []
          },
          "execution_count": 20
        }
      ]
    },
    {
      "cell_type": "code",
      "metadata": {
        "id": "DUpklupvO2xZ",
        "colab_type": "code",
        "colab": {
          "base_uri": "https://localhost:8080/",
          "height": 34
        },
        "outputId": "942918cd-97f9-4f44-ef0b-34d42ca8a2f0"
      },
      "source": [
        "#Create the training data set\n",
        "#Create the scaled training dataset\n",
        "train_data = scaled_data[0:training_data_len,:]\n",
        "len(train_data)"
      ],
      "execution_count": 21,
      "outputs": [
        {
          "output_type": "execute_result",
          "data": {
            "text/plain": [
              "2045"
            ]
          },
          "metadata": {
            "tags": []
          },
          "execution_count": 21
        }
      ]
    },
    {
      "cell_type": "code",
      "metadata": {
        "id": "EVFNR7rURpk7",
        "colab_type": "code",
        "colab": {
          "base_uri": "https://localhost:8080/",
          "height": 140
        },
        "outputId": "a677772c-e3df-4320-860a-01f752d13fde"
      },
      "source": [
        "train_data"
      ],
      "execution_count": 24,
      "outputs": [
        {
          "output_type": "execute_result",
          "data": {
            "text/plain": [
              "array([[0.01046536],\n",
              "       [0.01064169],\n",
              "       [0.0090166 ],\n",
              "       ...,\n",
              "       [0.45670643],\n",
              "       [0.46681437],\n",
              "       [0.48556246]])"
            ]
          },
          "metadata": {
            "tags": []
          },
          "execution_count": 24
        }
      ]
    },
    {
      "cell_type": "code",
      "metadata": {
        "id": "Wv6QVAwNQK1B",
        "colab_type": "code",
        "colab": {
          "base_uri": "https://localhost:8080/",
          "height": 862
        },
        "outputId": "09b7af21-6a8d-4d53-9275-64708a75b151"
      },
      "source": [
        "#Split the data into x train and y_train data sets\n",
        "x_train = []\n",
        "y_train = []\n",
        "\n",
        "for i in range(60,len(train_data)):\n",
        "  x_train.append(train_data[i-60:i,0])\n",
        "  y_train.append(train_data[i,0])\n",
        "  if i<=61:\n",
        "    print(x_train)\n",
        "    print(y_train)\n",
        "    print()"
      ],
      "execution_count": 35,
      "outputs": [
        {
          "output_type": "stream",
          "text": [
            "[array([1.04653630e-02, 1.06416897e-02, 9.01660433e-03, 8.83074613e-03,\n",
            "       9.49793954e-03, 8.60676186e-03, 7.46777113e-03, 8.86410644e-03,\n",
            "       8.28269668e-03, 6.61471952e-03, 1.09562233e-02, 9.37879559e-03,\n",
            "       7.63456630e-03, 2.71641848e-03, 5.25174452e-03, 6.61948528e-03,\n",
            "       7.54402326e-03, 3.45032614e-03, 4.76575809e-06, 1.27719135e-03,\n",
            "       1.81570929e-03, 3.42173159e-03, 0.00000000e+00, 1.62508533e-03,\n",
            "       9.86486473e-04, 1.97297931e-03, 1.46305592e-03, 3.15485550e-03,\n",
            "       3.96978105e-03, 5.40900818e-03, 5.00393146e-03, 5.18502391e-03,\n",
            "       4.58455111e-03, 3.98884408e-03, 2.38758754e-03, 4.10322227e-03,\n",
            "       4.74182113e-03, 5.99041794e-03, 8.07300968e-03, 8.00628907e-03,\n",
            "       8.23503910e-03, 8.89270099e-03, 1.28195966e-02, 1.28815451e-02,\n",
            "       1.47592156e-02, 1.56265581e-02, 1.59410981e-02, 1.64653188e-02,\n",
            "       1.51499950e-02, 1.54406999e-02, 1.52834362e-02, 1.55360151e-02,\n",
            "       1.43922586e-02, 1.55836726e-02, 1.73040668e-02, 1.77854020e-02,\n",
            "       1.64891412e-02, 1.85145439e-02, 1.92246227e-02, 2.08735369e-02])]\n",
            "[0.02046846651215685]\n",
            "\n",
            "[array([1.04653630e-02, 1.06416897e-02, 9.01660433e-03, 8.83074613e-03,\n",
            "       9.49793954e-03, 8.60676186e-03, 7.46777113e-03, 8.86410644e-03,\n",
            "       8.28269668e-03, 6.61471952e-03, 1.09562233e-02, 9.37879559e-03,\n",
            "       7.63456630e-03, 2.71641848e-03, 5.25174452e-03, 6.61948528e-03,\n",
            "       7.54402326e-03, 3.45032614e-03, 4.76575809e-06, 1.27719135e-03,\n",
            "       1.81570929e-03, 3.42173159e-03, 0.00000000e+00, 1.62508533e-03,\n",
            "       9.86486473e-04, 1.97297931e-03, 1.46305592e-03, 3.15485550e-03,\n",
            "       3.96978105e-03, 5.40900818e-03, 5.00393146e-03, 5.18502391e-03,\n",
            "       4.58455111e-03, 3.98884408e-03, 2.38758754e-03, 4.10322227e-03,\n",
            "       4.74182113e-03, 5.99041794e-03, 8.07300968e-03, 8.00628907e-03,\n",
            "       8.23503910e-03, 8.89270099e-03, 1.28195966e-02, 1.28815451e-02,\n",
            "       1.47592156e-02, 1.56265581e-02, 1.59410981e-02, 1.64653188e-02,\n",
            "       1.51499950e-02, 1.54406999e-02, 1.52834362e-02, 1.55360151e-02,\n",
            "       1.43922586e-02, 1.55836726e-02, 1.73040668e-02, 1.77854020e-02,\n",
            "       1.64891412e-02, 1.85145439e-02, 1.92246227e-02, 2.08735369e-02]), array([1.06416897e-02, 9.01660433e-03, 8.83074613e-03, 9.49793954e-03,\n",
            "       8.60676186e-03, 7.46777113e-03, 8.86410644e-03, 8.28269668e-03,\n",
            "       6.61471952e-03, 1.09562233e-02, 9.37879559e-03, 7.63456630e-03,\n",
            "       2.71641848e-03, 5.25174452e-03, 6.61948528e-03, 7.54402326e-03,\n",
            "       3.45032614e-03, 4.76575809e-06, 1.27719135e-03, 1.81570929e-03,\n",
            "       3.42173159e-03, 0.00000000e+00, 1.62508533e-03, 9.86486473e-04,\n",
            "       1.97297931e-03, 1.46305592e-03, 3.15485550e-03, 3.96978105e-03,\n",
            "       5.40900818e-03, 5.00393146e-03, 5.18502391e-03, 4.58455111e-03,\n",
            "       3.98884408e-03, 2.38758754e-03, 4.10322227e-03, 4.74182113e-03,\n",
            "       5.99041794e-03, 8.07300968e-03, 8.00628907e-03, 8.23503910e-03,\n",
            "       8.89270099e-03, 1.28195966e-02, 1.28815451e-02, 1.47592156e-02,\n",
            "       1.56265581e-02, 1.59410981e-02, 1.64653188e-02, 1.51499950e-02,\n",
            "       1.54406999e-02, 1.52834362e-02, 1.55360151e-02, 1.43922586e-02,\n",
            "       1.55836726e-02, 1.73040668e-02, 1.77854020e-02, 1.64891412e-02,\n",
            "       1.85145439e-02, 1.92246227e-02, 2.08735369e-02, 2.04684665e-02])]\n",
            "[0.02046846651215685, 0.020930725958449317]\n",
            "\n"
          ],
          "name": "stdout"
        }
      ]
    },
    {
      "cell_type": "code",
      "metadata": {
        "id": "j6kPBqjeTIwv",
        "colab_type": "code",
        "colab": {
          "base_uri": "https://localhost:8080/",
          "height": 52
        },
        "outputId": "1d214b77-2176-43ef-c2b2-704ad614ba4f"
      },
      "source": [
        "print(np.shape(x_train))\n",
        "print(np.shape(y_train))"
      ],
      "execution_count": 36,
      "outputs": [
        {
          "output_type": "stream",
          "text": [
            "(1985, 60)\n",
            "(1985,)\n"
          ],
          "name": "stdout"
        }
      ]
    },
    {
      "cell_type": "code",
      "metadata": {
        "id": "TcdKp4RyT4W2",
        "colab_type": "code",
        "colab": {}
      },
      "source": [
        "#Convert the x_train and y_train to numpy arrays\n",
        "x_train,y_train = np.array(x_train),np.array(y_train)"
      ],
      "execution_count": 0,
      "outputs": []
    },
    {
      "cell_type": "code",
      "metadata": {
        "id": "o3L5UqXMUaNJ",
        "colab_type": "code",
        "colab": {
          "base_uri": "https://localhost:8080/",
          "height": 34
        },
        "outputId": "ff225eea-b4d7-4042-f8b7-157490891ea3"
      },
      "source": [
        "x_train.shape"
      ],
      "execution_count": 38,
      "outputs": [
        {
          "output_type": "execute_result",
          "data": {
            "text/plain": [
              "(1985, 60)"
            ]
          },
          "metadata": {
            "tags": []
          },
          "execution_count": 38
        }
      ]
    },
    {
      "cell_type": "code",
      "metadata": {
        "id": "0fhOVQ65UIUW",
        "colab_type": "code",
        "colab": {
          "base_uri": "https://localhost:8080/",
          "height": 34
        },
        "outputId": "dad67894-cae1-4631-b83b-4c743cb60b18"
      },
      "source": [
        "#Reshape the data bcoz our LSTM model is expecting 3D data\n",
        "x_train = np.reshape(x_train,(x_train.shape[0],x_train.shape[1],1))\n",
        "x_train.shape"
      ],
      "execution_count": 39,
      "outputs": [
        {
          "output_type": "execute_result",
          "data": {
            "text/plain": [
              "(1985, 60, 1)"
            ]
          },
          "metadata": {
            "tags": []
          },
          "execution_count": 39
        }
      ]
    },
    {
      "cell_type": "code",
      "metadata": {
        "id": "f7I1ByGDVE1U",
        "colab_type": "code",
        "colab": {
          "base_uri": "https://localhost:8080/",
          "height": 107
        },
        "outputId": "f5e1a462-26d4-41c0-c7a5-f938ce060fbd"
      },
      "source": [
        "#Build the model\n",
        "model =   Sequential()\n",
        "model.add(LSTM(50,return_sequences=True,input_shape=(x_train.shape[1],1)))\n",
        "model.add(LSTM(50,return_sequences=False))\n",
        "model.add(Dense(25))\n",
        "model.add(Dense(1))\n"
      ],
      "execution_count": 44,
      "outputs": [
        {
          "output_type": "stream",
          "text": [
            "WARNING:tensorflow:From /usr/local/lib/python3.6/dist-packages/keras/backend/tensorflow_backend.py:541: The name tf.placeholder is deprecated. Please use tf.compat.v1.placeholder instead.\n",
            "\n",
            "WARNING:tensorflow:From /usr/local/lib/python3.6/dist-packages/keras/backend/tensorflow_backend.py:4432: The name tf.random_uniform is deprecated. Please use tf.random.uniform instead.\n",
            "\n"
          ],
          "name": "stdout"
        }
      ]
    },
    {
      "cell_type": "code",
      "metadata": {
        "id": "bo_zyRUPXWwq",
        "colab_type": "code",
        "colab": {
          "base_uri": "https://localhost:8080/",
          "height": 52
        },
        "outputId": "f6b17abf-d2c0-4e66-cbf2-3981e3bc9451"
      },
      "source": [
        "#Compile the model\n",
        "model.compile(optimizer='adam',loss='mean_squared_error')"
      ],
      "execution_count": 45,
      "outputs": [
        {
          "output_type": "stream",
          "text": [
            "WARNING:tensorflow:From /usr/local/lib/python3.6/dist-packages/keras/optimizers.py:793: The name tf.train.Optimizer is deprecated. Please use tf.compat.v1.train.Optimizer instead.\n",
            "\n"
          ],
          "name": "stdout"
        }
      ]
    },
    {
      "cell_type": "code",
      "metadata": {
        "id": "Rkr0n87BXkA4",
        "colab_type": "code",
        "colab": {
          "base_uri": "https://localhost:8080/",
          "height": 1000
        },
        "outputId": "4a9180a2-21a4-4c55-d6ad-bcc704526490"
      },
      "source": [
        "#Fitting the model\n",
        "model.fit(x_train,y_train,batch_size=30,epochs=20)"
      ],
      "execution_count": 46,
      "outputs": [
        {
          "output_type": "stream",
          "text": [
            "WARNING:tensorflow:From /usr/local/lib/python3.6/dist-packages/tensorflow_core/python/ops/math_grad.py:1424: where (from tensorflow.python.ops.array_ops) is deprecated and will be removed in a future version.\n",
            "Instructions for updating:\n",
            "Use tf.where in 2.0, which has the same broadcast rule as np.where\n",
            "WARNING:tensorflow:From /usr/local/lib/python3.6/dist-packages/keras/backend/tensorflow_backend.py:1033: The name tf.assign_add is deprecated. Please use tf.compat.v1.assign_add instead.\n",
            "\n",
            "WARNING:tensorflow:From /usr/local/lib/python3.6/dist-packages/keras/backend/tensorflow_backend.py:1020: The name tf.assign is deprecated. Please use tf.compat.v1.assign instead.\n",
            "\n",
            "WARNING:tensorflow:From /usr/local/lib/python3.6/dist-packages/keras/backend/tensorflow_backend.py:3005: The name tf.Session is deprecated. Please use tf.compat.v1.Session instead.\n",
            "\n",
            "Epoch 1/20\n",
            "WARNING:tensorflow:From /usr/local/lib/python3.6/dist-packages/keras/backend/tensorflow_backend.py:190: The name tf.get_default_session is deprecated. Please use tf.compat.v1.get_default_session instead.\n",
            "\n",
            "WARNING:tensorflow:From /usr/local/lib/python3.6/dist-packages/keras/backend/tensorflow_backend.py:197: The name tf.ConfigProto is deprecated. Please use tf.compat.v1.ConfigProto instead.\n",
            "\n",
            "WARNING:tensorflow:From /usr/local/lib/python3.6/dist-packages/keras/backend/tensorflow_backend.py:207: The name tf.global_variables is deprecated. Please use tf.compat.v1.global_variables instead.\n",
            "\n",
            "WARNING:tensorflow:From /usr/local/lib/python3.6/dist-packages/keras/backend/tensorflow_backend.py:216: The name tf.is_variable_initialized is deprecated. Please use tf.compat.v1.is_variable_initialized instead.\n",
            "\n",
            "WARNING:tensorflow:From /usr/local/lib/python3.6/dist-packages/keras/backend/tensorflow_backend.py:223: The name tf.variables_initializer is deprecated. Please use tf.compat.v1.variables_initializer instead.\n",
            "\n",
            "1985/1985 [==============================] - 21s 11ms/step - loss: 0.0040\n",
            "Epoch 2/20\n",
            "1985/1985 [==============================] - 11s 6ms/step - loss: 1.3223e-04\n",
            "Epoch 3/20\n",
            "1985/1985 [==============================] - 12s 6ms/step - loss: 1.2313e-04\n",
            "Epoch 4/20\n",
            "1985/1985 [==============================] - 11s 6ms/step - loss: 1.2326e-04\n",
            "Epoch 5/20\n",
            "1985/1985 [==============================] - 11s 6ms/step - loss: 1.2056e-04\n",
            "Epoch 6/20\n",
            "1985/1985 [==============================] - 11s 6ms/step - loss: 1.2785e-04\n",
            "Epoch 7/20\n",
            "1985/1985 [==============================] - 11s 6ms/step - loss: 1.1199e-04\n",
            "Epoch 8/20\n",
            "1985/1985 [==============================] - 11s 6ms/step - loss: 1.0838e-04\n",
            "Epoch 9/20\n",
            "1985/1985 [==============================] - 11s 6ms/step - loss: 1.0902e-04\n",
            "Epoch 10/20\n",
            "1985/1985 [==============================] - 11s 5ms/step - loss: 1.0351e-04\n",
            "Epoch 11/20\n",
            "1985/1985 [==============================] - 11s 6ms/step - loss: 1.0754e-04\n",
            "Epoch 12/20\n",
            "1985/1985 [==============================] - 11s 5ms/step - loss: 9.8911e-05\n",
            "Epoch 13/20\n",
            "1985/1985 [==============================] - 11s 5ms/step - loss: 1.0049e-04\n",
            "Epoch 14/20\n",
            "1985/1985 [==============================] - 11s 6ms/step - loss: 9.1369e-05\n",
            "Epoch 15/20\n",
            "1985/1985 [==============================] - 11s 5ms/step - loss: 8.8742e-05\n",
            "Epoch 16/20\n",
            "1985/1985 [==============================] - 11s 6ms/step - loss: 8.7977e-05\n",
            "Epoch 17/20\n",
            "1985/1985 [==============================] - 11s 6ms/step - loss: 8.9569e-05\n",
            "Epoch 18/20\n",
            "1985/1985 [==============================] - 11s 5ms/step - loss: 9.4972e-05\n",
            "Epoch 19/20\n",
            "1985/1985 [==============================] - 11s 6ms/step - loss: 8.1077e-05\n",
            "Epoch 20/20\n",
            "1985/1985 [==============================] - 11s 6ms/step - loss: 7.8997e-05\n"
          ],
          "name": "stdout"
        },
        {
          "output_type": "execute_result",
          "data": {
            "text/plain": [
              "<keras.callbacks.History at 0x7f7ad5995828>"
            ]
          },
          "metadata": {
            "tags": []
          },
          "execution_count": 46
        }
      ]
    },
    {
      "cell_type": "code",
      "metadata": {
        "id": "dAIRVKTeX6uJ",
        "colab_type": "code",
        "colab": {}
      },
      "source": [
        "#Create the testing dataset\n",
        "#Create a new array containing scaled values from index 1985 to 2045\n",
        "test_data = scaled_data[training_data_len - 60:,:]\n",
        "#Create the x_tests and y_tests\n",
        "x_test = []\n",
        "y_test = dataset[training_data_len : , :]\n",
        "\n",
        "for i in range(60,len(test_data)):\n",
        "  x_test.append(test_data[i-60:i,0])\n",
        "  "
      ],
      "execution_count": 0,
      "outputs": []
    },
    {
      "cell_type": "code",
      "metadata": {
        "id": "6q10-_uyYzhZ",
        "colab_type": "code",
        "colab": {
          "base_uri": "https://localhost:8080/",
          "height": 34
        },
        "outputId": "e9a246bc-bb56-4ed7-cc5d-48bfb20e6f7e"
      },
      "source": [
        "#convert the data  into numpy array\n",
        "x_test = np.array(x_test)\n",
        "x_test.shape"
      ],
      "execution_count": 49,
      "outputs": [
        {
          "output_type": "execute_result",
          "data": {
            "text/plain": [
              "(511, 60)"
            ]
          },
          "metadata": {
            "tags": []
          },
          "execution_count": 49
        }
      ]
    },
    {
      "cell_type": "code",
      "metadata": {
        "id": "cxi8SnTtZAvJ",
        "colab_type": "code",
        "colab": {
          "base_uri": "https://localhost:8080/",
          "height": 34
        },
        "outputId": "21a17c4d-e4fe-4b46-a52e-c3868fd8bf1f"
      },
      "source": [
        "#Reshape the data\n",
        "x_test = np.reshape(x_test,(x_test.shape[0],x_test.shape[1],1))\n",
        "x_test.shape"
      ],
      "execution_count": 51,
      "outputs": [
        {
          "output_type": "execute_result",
          "data": {
            "text/plain": [
              "(511, 60, 1)"
            ]
          },
          "metadata": {
            "tags": []
          },
          "execution_count": 51
        }
      ]
    },
    {
      "cell_type": "code",
      "metadata": {
        "id": "5WyZ6eVhZTHQ",
        "colab_type": "code",
        "colab": {}
      },
      "source": [
        "#Get the models predicted price values\n",
        "predictions = model.predict(x_test)\n",
        "predictions = scaler.inverse_transform(predictions)"
      ],
      "execution_count": 0,
      "outputs": []
    },
    {
      "cell_type": "code",
      "metadata": {
        "id": "49yDSXK0ZuRs",
        "colab_type": "code",
        "colab": {
          "base_uri": "https://localhost:8080/",
          "height": 34
        },
        "outputId": "f86b7ff3-0590-45ec-ff7e-7cafba126bd9"
      },
      "source": [
        "#Get the root mean square error\n",
        "rmse = np.sqrt(np.mean(predictions-y_test)**2)\n",
        "rmse"
      ],
      "execution_count": 53,
      "outputs": [
        {
          "output_type": "execute_result",
          "data": {
            "text/plain": [
              "4.53131231916394"
            ]
          },
          "metadata": {
            "tags": []
          },
          "execution_count": 53
        }
      ]
    },
    {
      "cell_type": "code",
      "metadata": {
        "id": "-S_83OD-aLJV",
        "colab_type": "code",
        "colab": {
          "base_uri": "https://localhost:8080/",
          "height": 558
        },
        "outputId": "5e938b93-614c-4fc7-bd47-a628ea4103ef"
      },
      "source": [
        "#Plot the data\n",
        "train = data[:training_data_len]\n",
        "valid = data[training_data_len:]\n",
        "valid['Predictions']= predictions\n",
        "#Visualise the data\n",
        "plt.figure(figsize=(16,8))\n",
        "plt.title('Model')\n",
        "plt.xlabel('Date',fontsize=18)\n",
        "plt.ylabel('Closing Price USD($)',fontsize=18)\n",
        "plt.plot(train['Close'])\n",
        "plt.plot(valid[['Close','Predictions']])\n",
        "plt.legend(['Train','Val','Predictions'],loc='lower right')\n",
        "plt.show()"
      ],
      "execution_count": 55,
      "outputs": [
        {
          "output_type": "display_data",
          "data": {
            "image/png": "[encoded data removed]",
            "text/plain": [
              "<Figure size 1152x576 with 1 Axes>"
            ]
          },
          "metadata": {
            "tags": []
          }
        }
      ]
    },
    {
      "cell_type": "code",
      "metadata": {
        "id": "vlrmUIByb3cx",
        "colab_type": "code",
        "colab": {
          "base_uri": "https://localhost:8080/",
          "height": 431
        },
        "outputId": "97b1e338-51db-4add-ca5c-5246e17be06d"
      },
      "source": [
        "#Show the valid and predicted prices\n",
        "valid\n"
      ],
      "execution_count": 57,
      "outputs": [
        {
          "output_type": "execute_result",
          "data": {
            "text/html": [
              "<div>\n",
              "<style scoped>\n",
              "    .dataframe tbody tr th:only-of-type {\n",
              "        vertical-align: middle;\n",
              "    }\n",
              "\n",
              "    .dataframe tbody tr th {\n",
              "        vertical-align: top;\n",
              "    }\n",
              "\n",
              "    .dataframe thead th {\n",
              "        text-align: right;\n",
              "    }\n",
              "</style>\n",
              "<table border=\"1\" class=\"dataframe\">\n",
              "  <thead>\n",
              "    <tr style=\"text-align: right;\">\n",
              "      <th></th>\n",
              "      <th>Close</th>\n",
              "      <th>Predictions</th>\n",
              "    </tr>\n",
              "    <tr>\n",
              "      <th>Date</th>\n",
              "      <th></th>\n",
              "      <th></th>\n",
              "    </tr>\n",
              "  </thead>\n",
              "  <tbody>\n",
              "    <tr>\n",
              "      <th>2018-02-16</th>\n",
              "      <td>172.429993</td>\n",
              "      <td>159.376602</td>\n",
              "    </tr>\n",
              "    <tr>\n",
              "      <th>2018-02-20</th>\n",
              "      <td>171.850006</td>\n",
              "      <td>161.760559</td>\n",
              "    </tr>\n",
              "    <tr>\n",
              "      <th>2018-02-21</th>\n",
              "      <td>171.070007</td>\n",
              "      <td>164.054047</td>\n",
              "    </tr>\n",
              "    <tr>\n",
              "      <th>2018-02-22</th>\n",
              "      <td>172.500000</td>\n",
              "      <td>165.979141</td>\n",
              "    </tr>\n",
              "    <tr>\n",
              "      <th>2018-02-23</th>\n",
              "      <td>175.500000</td>\n",
              "      <td>167.639496</td>\n",
              "    </tr>\n",
              "    <tr>\n",
              "      <th>...</th>\n",
              "      <td>...</td>\n",
              "      <td>...</td>\n",
              "    </tr>\n",
              "    <tr>\n",
              "      <th>2020-02-24</th>\n",
              "      <td>298.179993</td>\n",
              "      <td>311.278442</td>\n",
              "    </tr>\n",
              "    <tr>\n",
              "      <th>2020-02-25</th>\n",
              "      <td>288.079987</td>\n",
              "      <td>307.744537</td>\n",
              "    </tr>\n",
              "    <tr>\n",
              "      <th>2020-02-26</th>\n",
              "      <td>292.649994</td>\n",
              "      <td>302.239960</td>\n",
              "    </tr>\n",
              "    <tr>\n",
              "      <th>2020-02-27</th>\n",
              "      <td>273.519989</td>\n",
              "      <td>296.770813</td>\n",
              "    </tr>\n",
              "    <tr>\n",
              "      <th>2020-02-28</th>\n",
              "      <td>273.359985</td>\n",
              "      <td>289.607788</td>\n",
              "    </tr>\n",
              "  </tbody>\n",
              "</table>\n",
              "<p>511 rows × 2 columns</p>\n",
              "</div>"
            ],
            "text/plain": [
              "                 Close  Predictions\n",
              "Date                               \n",
              "2018-02-16  172.429993   159.376602\n",
              "2018-02-20  171.850006   161.760559\n",
              "2018-02-21  171.070007   164.054047\n",
              "2018-02-22  172.500000   165.979141\n",
              "2018-02-23  175.500000   167.639496\n",
              "...                ...          ...\n",
              "2020-02-24  298.179993   311.278442\n",
              "2020-02-25  288.079987   307.744537\n",
              "2020-02-26  292.649994   302.239960\n",
              "2020-02-27  273.519989   296.770813\n",
              "2020-02-28  273.359985   289.607788\n",
              "\n",
              "[511 rows x 2 columns]"
            ]
          },
          "metadata": {
            "tags": []
          },
          "execution_count": 57
        }
      ]
    },
    {
      "cell_type": "code",
      "metadata": {
        "id": "dRdIb5omcQ6J",
        "colab_type": "code",
        "colab": {}
      },
      "source": [
        "#Get the quote\n",
        "apple_quote = web.datareader('AAPL',data_source='yahoo',start='2010-01-01',end='2021-03-01')\n",
        "#Create a new dataframe\n",
        "new_df = apple_quote.filter(['Close'])\n",
        "#Get the last 60 day closing price values and convert the dataframe to an array\n",
        "last_60_days =  new_df[-60:].values\n",
        "#Scale the data to be values between 0 and 1\n",
        "last_60_days_scaled = scaler.transform(last_60_days)\n",
        "#Create an empty list\n",
        "X_test = []\n",
        "#Append the past 60 days \n",
        "X_test.append(last_60_days_scaled)\n",
        "#Convert the X_test dataset to a numpy array\n",
        "X_test = np.array(X_test)\n",
        "#Reshape the data\n",
        "X_test = np.reshape(X_test,(X_test.shape[0],X_test.shape[1],1)\n",
        "#Get the predicted scaled price\n",
        "pred_price = model.predict(X_test)\n",
        "#undo the scaling\n",
        "pred_price = scaler.inverse_transform(pred_price)\n",
        "print(pred_price)"
      ],
      "execution_count": 0,
      "outputs": []
    },
    {
      "cell_type": "code",
      "metadata": {
        "id": "-ArSb91YeiSP",
        "colab_type": "code",
        "colab": {}
      },
      "source": [
        "#actual price\n",
        "apple_quote2 = web.datareader('AAPL',data_source='yahoo',start='2010-01-01',end='2021-03-01')\n",
        "print(apple_quote2)"
      ],
      "execution_count": 0,
      "outputs": []
    }
  ]
}